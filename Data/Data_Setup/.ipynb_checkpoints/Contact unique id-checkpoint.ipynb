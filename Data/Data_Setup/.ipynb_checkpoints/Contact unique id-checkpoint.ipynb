{
 "cells": [
  {
   "cell_type": "code",
   "execution_count": 68,
   "metadata": {},
   "outputs": [],
   "source": [
    "import pandas as pd\n",
    "filename = 'C:\\\\Users\\\\Admin\\\\Documents\\\\Contact.xlsx'\n",
    "df = pd.read_excel(filename)"
   ]
  },
  {
   "cell_type": "code",
   "execution_count": 69,
   "metadata": {},
   "outputs": [
    {
     "data": {
      "text/html": [
       "<div>\n",
       "<style scoped>\n",
       "    .dataframe tbody tr th:only-of-type {\n",
       "        vertical-align: middle;\n",
       "    }\n",
       "\n",
       "    .dataframe tbody tr th {\n",
       "        vertical-align: top;\n",
       "    }\n",
       "\n",
       "    .dataframe thead th {\n",
       "        text-align: right;\n",
       "    }\n",
       "</style>\n",
       "<table border=\"1\" class=\"dataframe\">\n",
       "  <thead>\n",
       "    <tr style=\"text-align: right;\">\n",
       "      <th></th>\n",
       "      <th>Company Name</th>\n",
       "      <th>Contact Name</th>\n",
       "      <th>Designation</th>\n",
       "      <th>Email</th>\n",
       "      <th>Phone</th>\n",
       "      <th>Size</th>\n",
       "    </tr>\n",
       "  </thead>\n",
       "  <tbody>\n",
       "    <tr>\n",
       "      <td>0</td>\n",
       "      <td>Shuttl</td>\n",
       "      <td>Amit Singh</td>\n",
       "      <td>Cofounder</td>\n",
       "      <td>amit.singh@shuttl.com</td>\n",
       "      <td>NaN</td>\n",
       "      <td>251-500</td>\n",
       "    </tr>\n",
       "    <tr>\n",
       "      <td>1</td>\n",
       "      <td>Shuttl</td>\n",
       "      <td>Deepanshu Malviya</td>\n",
       "      <td>Cofounder</td>\n",
       "      <td>deepanshu.malviya@shuttl.com</td>\n",
       "      <td>NaN</td>\n",
       "      <td>251-500</td>\n",
       "    </tr>\n",
       "    <tr>\n",
       "      <td>2</td>\n",
       "      <td>Shuttl</td>\n",
       "      <td>Gaurav Jain</td>\n",
       "      <td>VP Product</td>\n",
       "      <td>gaurav.jain@shuttl.com</td>\n",
       "      <td>NaN</td>\n",
       "      <td>251-500</td>\n",
       "    </tr>\n",
       "    <tr>\n",
       "      <td>3</td>\n",
       "      <td>Shuttl</td>\n",
       "      <td>Kashif Razzaqui</td>\n",
       "      <td>CTO</td>\n",
       "      <td>kashif.r@shuttl.com</td>\n",
       "      <td>NaN</td>\n",
       "      <td>251-500</td>\n",
       "    </tr>\n",
       "    <tr>\n",
       "      <td>4</td>\n",
       "      <td>Shuttl</td>\n",
       "      <td>Ramashis Biswas</td>\n",
       "      <td>Head HR</td>\n",
       "      <td>ramashis.biswas@shuttl.com</td>\n",
       "      <td>NaN</td>\n",
       "      <td>251-500</td>\n",
       "    </tr>\n",
       "  </tbody>\n",
       "</table>\n",
       "</div>"
      ],
      "text/plain": [
       "  Company Name       Contact Name Designation                         Email  \\\n",
       "0       Shuttl         Amit Singh   Cofounder         amit.singh@shuttl.com   \n",
       "1       Shuttl  Deepanshu Malviya   Cofounder  deepanshu.malviya@shuttl.com   \n",
       "2       Shuttl        Gaurav Jain  VP Product        gaurav.jain@shuttl.com   \n",
       "3       Shuttl    Kashif Razzaqui         CTO           kashif.r@shuttl.com   \n",
       "4       Shuttl    Ramashis Biswas     Head HR    ramashis.biswas@shuttl.com   \n",
       "\n",
       "  Phone     Size  \n",
       "0   NaN  251-500  \n",
       "1   NaN  251-500  \n",
       "2   NaN  251-500  \n",
       "3   NaN  251-500  \n",
       "4   NaN  251-500  "
      ]
     },
     "execution_count": 69,
     "metadata": {},
     "output_type": "execute_result"
    }
   ],
   "source": [
    "df.head(5)"
   ]
  },
  {
   "cell_type": "code",
   "execution_count": 70,
   "metadata": {},
   "outputs": [],
   "source": [
    "df = pd.DataFrame(df)"
   ]
  },
  {
   "cell_type": "code",
   "execution_count": 71,
   "metadata": {},
   "outputs": [],
   "source": [
    "df = df.drop_duplicates(subset='Email', keep='first')"
   ]
  },
  {
   "cell_type": "code",
   "execution_count": 72,
   "metadata": {},
   "outputs": [],
   "source": [
    "#df = df.set_index(['Company', 'name', 'Designation', 'Email', 'Location', 'Region', 'DB', 'Week', 'Person Status'])"
   ]
  },
  {
   "cell_type": "code",
   "execution_count": 73,
   "metadata": {},
   "outputs": [
    {
     "data": {
      "text/plain": [
       "(26438, 6)"
      ]
     },
     "execution_count": 73,
     "metadata": {},
     "output_type": "execute_result"
    }
   ],
   "source": [
    "df.shape"
   ]
  },
  {
   "cell_type": "code",
   "execution_count": 74,
   "metadata": {},
   "outputs": [
    {
     "data": {
      "text/plain": [
       "Index(['Company Name', 'Contact Name', 'Designation', 'Email', 'Phone',\n",
       "       'Size'],\n",
       "      dtype='object')"
      ]
     },
     "execution_count": 74,
     "metadata": {},
     "output_type": "execute_result"
    }
   ],
   "source": [
    "df.columns"
   ]
  },
  {
   "cell_type": "code",
   "execution_count": 75,
   "metadata": {},
   "outputs": [],
   "source": [
    "#df = df.drop(['Unnamed: 0'], axis=1)"
   ]
  },
  {
   "cell_type": "code",
   "execution_count": 76,
   "metadata": {},
   "outputs": [
    {
     "data": {
      "text/html": [
       "<div>\n",
       "<style scoped>\n",
       "    .dataframe tbody tr th:only-of-type {\n",
       "        vertical-align: middle;\n",
       "    }\n",
       "\n",
       "    .dataframe tbody tr th {\n",
       "        vertical-align: top;\n",
       "    }\n",
       "\n",
       "    .dataframe thead th {\n",
       "        text-align: right;\n",
       "    }\n",
       "</style>\n",
       "<table border=\"1\" class=\"dataframe\">\n",
       "  <thead>\n",
       "    <tr style=\"text-align: right;\">\n",
       "      <th></th>\n",
       "      <th>Company Name</th>\n",
       "      <th>Contact Name</th>\n",
       "      <th>Designation</th>\n",
       "      <th>Email</th>\n",
       "      <th>Phone</th>\n",
       "      <th>Size</th>\n",
       "    </tr>\n",
       "  </thead>\n",
       "  <tbody>\n",
       "    <tr>\n",
       "      <td>0</td>\n",
       "      <td>Shuttl</td>\n",
       "      <td>Amit Singh</td>\n",
       "      <td>Cofounder</td>\n",
       "      <td>amit.singh@shuttl.com</td>\n",
       "      <td>NaN</td>\n",
       "      <td>251-500</td>\n",
       "    </tr>\n",
       "    <tr>\n",
       "      <td>1</td>\n",
       "      <td>Shuttl</td>\n",
       "      <td>Deepanshu Malviya</td>\n",
       "      <td>Cofounder</td>\n",
       "      <td>deepanshu.malviya@shuttl.com</td>\n",
       "      <td>NaN</td>\n",
       "      <td>251-500</td>\n",
       "    </tr>\n",
       "    <tr>\n",
       "      <td>2</td>\n",
       "      <td>Shuttl</td>\n",
       "      <td>Gaurav Jain</td>\n",
       "      <td>VP Product</td>\n",
       "      <td>gaurav.jain@shuttl.com</td>\n",
       "      <td>NaN</td>\n",
       "      <td>251-500</td>\n",
       "    </tr>\n",
       "    <tr>\n",
       "      <td>3</td>\n",
       "      <td>Shuttl</td>\n",
       "      <td>Kashif Razzaqui</td>\n",
       "      <td>CTO</td>\n",
       "      <td>kashif.r@shuttl.com</td>\n",
       "      <td>NaN</td>\n",
       "      <td>251-500</td>\n",
       "    </tr>\n",
       "    <tr>\n",
       "      <td>4</td>\n",
       "      <td>Shuttl</td>\n",
       "      <td>Ramashis Biswas</td>\n",
       "      <td>Head HR</td>\n",
       "      <td>ramashis.biswas@shuttl.com</td>\n",
       "      <td>NaN</td>\n",
       "      <td>251-500</td>\n",
       "    </tr>\n",
       "  </tbody>\n",
       "</table>\n",
       "</div>"
      ],
      "text/plain": [
       "  Company Name       Contact Name Designation                         Email  \\\n",
       "0       Shuttl         Amit Singh   Cofounder         amit.singh@shuttl.com   \n",
       "1       Shuttl  Deepanshu Malviya   Cofounder  deepanshu.malviya@shuttl.com   \n",
       "2       Shuttl        Gaurav Jain  VP Product        gaurav.jain@shuttl.com   \n",
       "3       Shuttl    Kashif Razzaqui         CTO           kashif.r@shuttl.com   \n",
       "4       Shuttl    Ramashis Biswas     Head HR    ramashis.biswas@shuttl.com   \n",
       "\n",
       "  Phone     Size  \n",
       "0   NaN  251-500  \n",
       "1   NaN  251-500  \n",
       "2   NaN  251-500  \n",
       "3   NaN  251-500  \n",
       "4   NaN  251-500  "
      ]
     },
     "execution_count": 76,
     "metadata": {},
     "output_type": "execute_result"
    }
   ],
   "source": [
    "df.head(5)"
   ]
  },
  {
   "cell_type": "code",
   "execution_count": 77,
   "metadata": {},
   "outputs": [],
   "source": [
    "Filename = 'C:\\\\Users\\\\Admin\\\\Company.csv'\n",
    "data = pd.read_csv(Filename)"
   ]
  },
  {
   "cell_type": "code",
   "execution_count": 78,
   "metadata": {},
   "outputs": [
    {
     "data": {
      "text/plain": [
       "((12948, 10), (26438, 6))"
      ]
     },
     "execution_count": 78,
     "metadata": {},
     "output_type": "execute_result"
    }
   ],
   "source": [
    "data.shape, df.shape"
   ]
  },
  {
   "cell_type": "code",
   "execution_count": 79,
   "metadata": {},
   "outputs": [],
   "source": [
    "data = pd.DataFrame(data)"
   ]
  },
  {
   "cell_type": "code",
   "execution_count": 80,
   "metadata": {},
   "outputs": [
    {
     "data": {
      "text/html": [
       "<div>\n",
       "<style scoped>\n",
       "    .dataframe tbody tr th:only-of-type {\n",
       "        vertical-align: middle;\n",
       "    }\n",
       "\n",
       "    .dataframe tbody tr th {\n",
       "        vertical-align: top;\n",
       "    }\n",
       "\n",
       "    .dataframe thead th {\n",
       "        text-align: right;\n",
       "    }\n",
       "</style>\n",
       "<table border=\"1\" class=\"dataframe\">\n",
       "  <thead>\n",
       "    <tr style=\"text-align: right;\">\n",
       "      <th></th>\n",
       "      <th>Company</th>\n",
       "      <th>id_co</th>\n",
       "    </tr>\n",
       "  </thead>\n",
       "  <tbody>\n",
       "    <tr>\n",
       "      <td>0</td>\n",
       "      <td>Shuttl</td>\n",
       "      <td>SNX0</td>\n",
       "    </tr>\n",
       "    <tr>\n",
       "      <td>1</td>\n",
       "      <td>Digit Insurance</td>\n",
       "      <td>DBX1</td>\n",
       "    </tr>\n",
       "    <tr>\n",
       "      <td>2</td>\n",
       "      <td>Swiggy</td>\n",
       "      <td>SBX2</td>\n",
       "    </tr>\n",
       "    <tr>\n",
       "      <td>3</td>\n",
       "      <td>Cleardekho</td>\n",
       "      <td>CNX3</td>\n",
       "    </tr>\n",
       "    <tr>\n",
       "      <td>4</td>\n",
       "      <td>Zomato</td>\n",
       "      <td>ZNX4</td>\n",
       "    </tr>\n",
       "  </tbody>\n",
       "</table>\n",
       "</div>"
      ],
      "text/plain": [
       "           Company id_co\n",
       "0           Shuttl  SNX0\n",
       "1  Digit Insurance  DBX1\n",
       "2           Swiggy  SBX2\n",
       "3       Cleardekho  CNX3\n",
       "4           Zomato  ZNX4"
      ]
     },
     "execution_count": 80,
     "metadata": {},
     "output_type": "execute_result"
    }
   ],
   "source": [
    "data = data[['Company', 'id_co',]]\n",
    "data.head()"
   ]
  },
  {
   "cell_type": "code",
   "execution_count": 81,
   "metadata": {},
   "outputs": [],
   "source": [
    "# df['id'] =  np.random.normal(size=len(df))\n",
    "df.head(1)"
   ]
  },
  {
   "cell_type": "code",
   "execution_count": 82,
   "metadata": {},
   "outputs": [],
   "source": [
    "# df[df[\"Company\"] == [\"Shuttl\"][\"id\"] = 0"
   ]
  },
  {
   "cell_type": "code",
   "execution_count": 83,
   "metadata": {},
   "outputs": [
    {
     "data": {
      "text/plain": [
       "(26643, 8)"
      ]
     },
     "execution_count": 83,
     "metadata": {},
     "output_type": "execute_result"
    }
   ],
   "source": [
    "x = df.merge(data, left_on='Company Name', right_on='Company')\n",
    "x.shape"
   ]
  },
  {
   "cell_type": "code",
   "execution_count": 84,
   "metadata": {},
   "outputs": [
    {
     "data": {
      "text/html": [
       "<div>\n",
       "<style scoped>\n",
       "    .dataframe tbody tr th:only-of-type {\n",
       "        vertical-align: middle;\n",
       "    }\n",
       "\n",
       "    .dataframe tbody tr th {\n",
       "        vertical-align: top;\n",
       "    }\n",
       "\n",
       "    .dataframe thead th {\n",
       "        text-align: right;\n",
       "    }\n",
       "</style>\n",
       "<table border=\"1\" class=\"dataframe\">\n",
       "  <thead>\n",
       "    <tr style=\"text-align: right;\">\n",
       "      <th></th>\n",
       "      <th>Company Name</th>\n",
       "      <th>Contact Name</th>\n",
       "      <th>Designation</th>\n",
       "      <th>Email</th>\n",
       "      <th>Phone</th>\n",
       "      <th>Size</th>\n",
       "      <th>Company</th>\n",
       "      <th>id_co</th>\n",
       "    </tr>\n",
       "  </thead>\n",
       "  <tbody>\n",
       "    <tr>\n",
       "      <td>0</td>\n",
       "      <td>Shuttl</td>\n",
       "      <td>Amit Singh</td>\n",
       "      <td>Cofounder</td>\n",
       "      <td>amit.singh@shuttl.com</td>\n",
       "      <td>NaN</td>\n",
       "      <td>251-500</td>\n",
       "      <td>Shuttl</td>\n",
       "      <td>SNX0</td>\n",
       "    </tr>\n",
       "    <tr>\n",
       "      <td>1</td>\n",
       "      <td>Shuttl</td>\n",
       "      <td>Deepanshu Malviya</td>\n",
       "      <td>Cofounder</td>\n",
       "      <td>deepanshu.malviya@shuttl.com</td>\n",
       "      <td>NaN</td>\n",
       "      <td>251-500</td>\n",
       "      <td>Shuttl</td>\n",
       "      <td>SNX0</td>\n",
       "    </tr>\n",
       "    <tr>\n",
       "      <td>2</td>\n",
       "      <td>Shuttl</td>\n",
       "      <td>Gaurav Jain</td>\n",
       "      <td>VP Product</td>\n",
       "      <td>gaurav.jain@shuttl.com</td>\n",
       "      <td>NaN</td>\n",
       "      <td>251-500</td>\n",
       "      <td>Shuttl</td>\n",
       "      <td>SNX0</td>\n",
       "    </tr>\n",
       "    <tr>\n",
       "      <td>3</td>\n",
       "      <td>Shuttl</td>\n",
       "      <td>Kashif Razzaqui</td>\n",
       "      <td>CTO</td>\n",
       "      <td>kashif.r@shuttl.com</td>\n",
       "      <td>NaN</td>\n",
       "      <td>251-500</td>\n",
       "      <td>Shuttl</td>\n",
       "      <td>SNX0</td>\n",
       "    </tr>\n",
       "    <tr>\n",
       "      <td>4</td>\n",
       "      <td>Shuttl</td>\n",
       "      <td>Ramashis Biswas</td>\n",
       "      <td>Head HR</td>\n",
       "      <td>ramashis.biswas@shuttl.com</td>\n",
       "      <td>NaN</td>\n",
       "      <td>251-500</td>\n",
       "      <td>Shuttl</td>\n",
       "      <td>SNX0</td>\n",
       "    </tr>\n",
       "  </tbody>\n",
       "</table>\n",
       "</div>"
      ],
      "text/plain": [
       "  Company Name       Contact Name Designation                         Email  \\\n",
       "0       Shuttl         Amit Singh   Cofounder         amit.singh@shuttl.com   \n",
       "1       Shuttl  Deepanshu Malviya   Cofounder  deepanshu.malviya@shuttl.com   \n",
       "2       Shuttl        Gaurav Jain  VP Product        gaurav.jain@shuttl.com   \n",
       "3       Shuttl    Kashif Razzaqui         CTO           kashif.r@shuttl.com   \n",
       "4       Shuttl    Ramashis Biswas     Head HR    ramashis.biswas@shuttl.com   \n",
       "\n",
       "  Phone     Size Company id_co  \n",
       "0   NaN  251-500  Shuttl  SNX0  \n",
       "1   NaN  251-500  Shuttl  SNX0  \n",
       "2   NaN  251-500  Shuttl  SNX0  \n",
       "3   NaN  251-500  Shuttl  SNX0  \n",
       "4   NaN  251-500  Shuttl  SNX0  "
      ]
     },
     "execution_count": 84,
     "metadata": {},
     "output_type": "execute_result"
    }
   ],
   "source": [
    "#df_1= df.drop(['Unnamed: 11', 'Unnamed: 0'], axis = 1)\n",
    "x.head()"
   ]
  },
  {
   "cell_type": "code",
   "execution_count": 85,
   "metadata": {},
   "outputs": [],
   "source": [
    "df = x.drop(['Company'], axis = 1)"
   ]
  },
  {
   "cell_type": "code",
   "execution_count": 86,
   "metadata": {},
   "outputs": [],
   "source": [
    "filename = 'C:\\\\Users\\\\Admin\\\\Documents\\\\Contact.xlsx'"
   ]
  },
  {
   "cell_type": "code",
   "execution_count": 87,
   "metadata": {},
   "outputs": [],
   "source": [
    "df.to_excel(filename)"
   ]
  },
  {
   "cell_type": "code",
   "execution_count": 88,
   "metadata": {},
   "outputs": [],
   "source": [
    "x = pd.read_excel(filename)"
   ]
  },
  {
   "cell_type": "code",
   "execution_count": 89,
   "metadata": {},
   "outputs": [
    {
     "data": {
      "text/plain": [
       "'AShuttl1'"
      ]
     },
     "execution_count": 89,
     "metadata": {},
     "output_type": "execute_result"
    }
   ],
   "source": [
    "x['Contact Name'][0][0]+x['Company Name'][0] + str(1)"
   ]
  },
  {
   "cell_type": "code",
   "execution_count": 90,
   "metadata": {},
   "outputs": [
    {
     "data": {
      "text/html": [
       "<div>\n",
       "<style scoped>\n",
       "    .dataframe tbody tr th:only-of-type {\n",
       "        vertical-align: middle;\n",
       "    }\n",
       "\n",
       "    .dataframe tbody tr th {\n",
       "        vertical-align: top;\n",
       "    }\n",
       "\n",
       "    .dataframe thead th {\n",
       "        text-align: right;\n",
       "    }\n",
       "</style>\n",
       "<table border=\"1\" class=\"dataframe\">\n",
       "  <thead>\n",
       "    <tr style=\"text-align: right;\">\n",
       "      <th></th>\n",
       "      <th>Unnamed: 0</th>\n",
       "      <th>Company Name</th>\n",
       "      <th>Contact Name</th>\n",
       "      <th>Designation</th>\n",
       "      <th>Email</th>\n",
       "      <th>Phone</th>\n",
       "      <th>Size</th>\n",
       "      <th>id_co</th>\n",
       "    </tr>\n",
       "  </thead>\n",
       "  <tbody>\n",
       "    <tr>\n",
       "      <td>0</td>\n",
       "      <td>0</td>\n",
       "      <td>Shuttl</td>\n",
       "      <td>Amit Singh</td>\n",
       "      <td>Cofounder</td>\n",
       "      <td>amit.singh@shuttl.com</td>\n",
       "      <td>X</td>\n",
       "      <td>251-500</td>\n",
       "      <td>SNX0</td>\n",
       "    </tr>\n",
       "    <tr>\n",
       "      <td>1</td>\n",
       "      <td>1</td>\n",
       "      <td>Shuttl</td>\n",
       "      <td>Deepanshu Malviya</td>\n",
       "      <td>Cofounder</td>\n",
       "      <td>deepanshu.malviya@shuttl.com</td>\n",
       "      <td>X</td>\n",
       "      <td>251-500</td>\n",
       "      <td>SNX0</td>\n",
       "    </tr>\n",
       "    <tr>\n",
       "      <td>2</td>\n",
       "      <td>2</td>\n",
       "      <td>Shuttl</td>\n",
       "      <td>Gaurav Jain</td>\n",
       "      <td>VP Product</td>\n",
       "      <td>gaurav.jain@shuttl.com</td>\n",
       "      <td>X</td>\n",
       "      <td>251-500</td>\n",
       "      <td>SNX0</td>\n",
       "    </tr>\n",
       "    <tr>\n",
       "      <td>3</td>\n",
       "      <td>3</td>\n",
       "      <td>Shuttl</td>\n",
       "      <td>Kashif Razzaqui</td>\n",
       "      <td>CTO</td>\n",
       "      <td>kashif.r@shuttl.com</td>\n",
       "      <td>X</td>\n",
       "      <td>251-500</td>\n",
       "      <td>SNX0</td>\n",
       "    </tr>\n",
       "    <tr>\n",
       "      <td>4</td>\n",
       "      <td>4</td>\n",
       "      <td>Shuttl</td>\n",
       "      <td>Ramashis Biswas</td>\n",
       "      <td>Head HR</td>\n",
       "      <td>ramashis.biswas@shuttl.com</td>\n",
       "      <td>X</td>\n",
       "      <td>251-500</td>\n",
       "      <td>SNX0</td>\n",
       "    </tr>\n",
       "  </tbody>\n",
       "</table>\n",
       "</div>"
      ],
      "text/plain": [
       "   Unnamed: 0 Company Name       Contact Name Designation  \\\n",
       "0           0       Shuttl         Amit Singh   Cofounder   \n",
       "1           1       Shuttl  Deepanshu Malviya   Cofounder   \n",
       "2           2       Shuttl        Gaurav Jain  VP Product   \n",
       "3           3       Shuttl    Kashif Razzaqui         CTO   \n",
       "4           4       Shuttl    Ramashis Biswas     Head HR   \n",
       "\n",
       "                          Email Phone     Size id_co  \n",
       "0         amit.singh@shuttl.com     X  251-500  SNX0  \n",
       "1  deepanshu.malviya@shuttl.com     X  251-500  SNX0  \n",
       "2        gaurav.jain@shuttl.com     X  251-500  SNX0  \n",
       "3           kashif.r@shuttl.com     X  251-500  SNX0  \n",
       "4    ramashis.biswas@shuttl.com     X  251-500  SNX0  "
      ]
     },
     "execution_count": 90,
     "metadata": {},
     "output_type": "execute_result"
    }
   ],
   "source": [
    "x.fillna('X', inplace = True)\n",
    "x.head()"
   ]
  },
  {
   "cell_type": "code",
   "execution_count": 91,
   "metadata": {},
   "outputs": [],
   "source": [
    "x['id_con']=\"\""
   ]
  },
  {
   "cell_type": "code",
   "execution_count": 93,
   "metadata": {},
   "outputs": [
    {
     "name": "stderr",
     "output_type": "stream",
     "text": [
      "C:\\Users\\Admin\\Anaconda3\\lib\\site-packages\\ipykernel_launcher.py:2: SettingWithCopyWarning: \n",
      "A value is trying to be set on a copy of a slice from a DataFrame\n",
      "\n",
      "See the caveats in the documentation: http://pandas.pydata.org/pandas-docs/stable/user_guide/indexing.html#returning-a-view-versus-a-copy\n",
      "  \n"
     ]
    }
   ],
   "source": [
    "for value in range(0, len(x['Email'])):\n",
    "    x['id_con'][value] = str(x['Contact Name'][value])[0] + str(x['id_co'][value]) + str([value])"
   ]
  },
  {
   "cell_type": "code",
   "execution_count": 94,
   "metadata": {},
   "outputs": [
    {
     "data": {
      "text/html": [
       "<div>\n",
       "<style scoped>\n",
       "    .dataframe tbody tr th:only-of-type {\n",
       "        vertical-align: middle;\n",
       "    }\n",
       "\n",
       "    .dataframe tbody tr th {\n",
       "        vertical-align: top;\n",
       "    }\n",
       "\n",
       "    .dataframe thead th {\n",
       "        text-align: right;\n",
       "    }\n",
       "</style>\n",
       "<table border=\"1\" class=\"dataframe\">\n",
       "  <thead>\n",
       "    <tr style=\"text-align: right;\">\n",
       "      <th></th>\n",
       "      <th>Unnamed: 0</th>\n",
       "      <th>Company Name</th>\n",
       "      <th>Contact Name</th>\n",
       "      <th>Designation</th>\n",
       "      <th>Email</th>\n",
       "      <th>Phone</th>\n",
       "      <th>Size</th>\n",
       "      <th>id_co</th>\n",
       "      <th>id_con</th>\n",
       "    </tr>\n",
       "  </thead>\n",
       "  <tbody>\n",
       "    <tr>\n",
       "      <td>0</td>\n",
       "      <td>0</td>\n",
       "      <td>Shuttl</td>\n",
       "      <td>Amit Singh</td>\n",
       "      <td>Cofounder</td>\n",
       "      <td>amit.singh@shuttl.com</td>\n",
       "      <td>X</td>\n",
       "      <td>251-500</td>\n",
       "      <td>SNX0</td>\n",
       "      <td>ASNX0[0]</td>\n",
       "    </tr>\n",
       "    <tr>\n",
       "      <td>1</td>\n",
       "      <td>1</td>\n",
       "      <td>Shuttl</td>\n",
       "      <td>Deepanshu Malviya</td>\n",
       "      <td>Cofounder</td>\n",
       "      <td>deepanshu.malviya@shuttl.com</td>\n",
       "      <td>X</td>\n",
       "      <td>251-500</td>\n",
       "      <td>SNX0</td>\n",
       "      <td>DSNX0[1]</td>\n",
       "    </tr>\n",
       "    <tr>\n",
       "      <td>2</td>\n",
       "      <td>2</td>\n",
       "      <td>Shuttl</td>\n",
       "      <td>Gaurav Jain</td>\n",
       "      <td>VP Product</td>\n",
       "      <td>gaurav.jain@shuttl.com</td>\n",
       "      <td>X</td>\n",
       "      <td>251-500</td>\n",
       "      <td>SNX0</td>\n",
       "      <td>GSNX0[2]</td>\n",
       "    </tr>\n",
       "    <tr>\n",
       "      <td>3</td>\n",
       "      <td>3</td>\n",
       "      <td>Shuttl</td>\n",
       "      <td>Kashif Razzaqui</td>\n",
       "      <td>CTO</td>\n",
       "      <td>kashif.r@shuttl.com</td>\n",
       "      <td>X</td>\n",
       "      <td>251-500</td>\n",
       "      <td>SNX0</td>\n",
       "      <td>KSNX0[3]</td>\n",
       "    </tr>\n",
       "    <tr>\n",
       "      <td>4</td>\n",
       "      <td>4</td>\n",
       "      <td>Shuttl</td>\n",
       "      <td>Ramashis Biswas</td>\n",
       "      <td>Head HR</td>\n",
       "      <td>ramashis.biswas@shuttl.com</td>\n",
       "      <td>X</td>\n",
       "      <td>251-500</td>\n",
       "      <td>SNX0</td>\n",
       "      <td>RSNX0[4]</td>\n",
       "    </tr>\n",
       "  </tbody>\n",
       "</table>\n",
       "</div>"
      ],
      "text/plain": [
       "   Unnamed: 0 Company Name       Contact Name Designation  \\\n",
       "0           0       Shuttl         Amit Singh   Cofounder   \n",
       "1           1       Shuttl  Deepanshu Malviya   Cofounder   \n",
       "2           2       Shuttl        Gaurav Jain  VP Product   \n",
       "3           3       Shuttl    Kashif Razzaqui         CTO   \n",
       "4           4       Shuttl    Ramashis Biswas     Head HR   \n",
       "\n",
       "                          Email Phone     Size id_co    id_con  \n",
       "0         amit.singh@shuttl.com     X  251-500  SNX0  ASNX0[0]  \n",
       "1  deepanshu.malviya@shuttl.com     X  251-500  SNX0  DSNX0[1]  \n",
       "2        gaurav.jain@shuttl.com     X  251-500  SNX0  GSNX0[2]  \n",
       "3           kashif.r@shuttl.com     X  251-500  SNX0  KSNX0[3]  \n",
       "4    ramashis.biswas@shuttl.com     X  251-500  SNX0  RSNX0[4]  "
      ]
     },
     "execution_count": 94,
     "metadata": {},
     "output_type": "execute_result"
    }
   ],
   "source": [
    "#x.rename(columns={'Unnamed: 0' : 'id_con'}, inplace = True)\n",
    "x.head()"
   ]
  },
  {
   "cell_type": "code",
   "execution_count": 95,
   "metadata": {},
   "outputs": [],
   "source": [
    "df = x.drop(['Unnamed: 0'], axis = 1)"
   ]
  },
  {
   "cell_type": "code",
   "execution_count": 96,
   "metadata": {},
   "outputs": [],
   "source": [
    "#df = df.set_index(['id_co', 'Company', 'id_con', 'name', 'Designation', 'Email', 'Location', 'Region', 'DB', 'Week'])"
   ]
  },
  {
   "cell_type": "code",
   "execution_count": 97,
   "metadata": {},
   "outputs": [
    {
     "data": {
      "text/html": [
       "<div>\n",
       "<style scoped>\n",
       "    .dataframe tbody tr th:only-of-type {\n",
       "        vertical-align: middle;\n",
       "    }\n",
       "\n",
       "    .dataframe tbody tr th {\n",
       "        vertical-align: top;\n",
       "    }\n",
       "\n",
       "    .dataframe thead th {\n",
       "        text-align: right;\n",
       "    }\n",
       "</style>\n",
       "<table border=\"1\" class=\"dataframe\">\n",
       "  <thead>\n",
       "    <tr style=\"text-align: right;\">\n",
       "      <th></th>\n",
       "      <th>Company Name</th>\n",
       "      <th>Contact Name</th>\n",
       "      <th>Designation</th>\n",
       "      <th>Email</th>\n",
       "      <th>Phone</th>\n",
       "      <th>Size</th>\n",
       "      <th>id_co</th>\n",
       "      <th>id_con</th>\n",
       "    </tr>\n",
       "  </thead>\n",
       "  <tbody>\n",
       "    <tr>\n",
       "      <td>0</td>\n",
       "      <td>Shuttl</td>\n",
       "      <td>Amit Singh</td>\n",
       "      <td>Cofounder</td>\n",
       "      <td>amit.singh@shuttl.com</td>\n",
       "      <td>X</td>\n",
       "      <td>251-500</td>\n",
       "      <td>SNX0</td>\n",
       "      <td>ASNX0[0]</td>\n",
       "    </tr>\n",
       "    <tr>\n",
       "      <td>1</td>\n",
       "      <td>Shuttl</td>\n",
       "      <td>Deepanshu Malviya</td>\n",
       "      <td>Cofounder</td>\n",
       "      <td>deepanshu.malviya@shuttl.com</td>\n",
       "      <td>X</td>\n",
       "      <td>251-500</td>\n",
       "      <td>SNX0</td>\n",
       "      <td>DSNX0[1]</td>\n",
       "    </tr>\n",
       "    <tr>\n",
       "      <td>2</td>\n",
       "      <td>Shuttl</td>\n",
       "      <td>Gaurav Jain</td>\n",
       "      <td>VP Product</td>\n",
       "      <td>gaurav.jain@shuttl.com</td>\n",
       "      <td>X</td>\n",
       "      <td>251-500</td>\n",
       "      <td>SNX0</td>\n",
       "      <td>GSNX0[2]</td>\n",
       "    </tr>\n",
       "    <tr>\n",
       "      <td>3</td>\n",
       "      <td>Shuttl</td>\n",
       "      <td>Kashif Razzaqui</td>\n",
       "      <td>CTO</td>\n",
       "      <td>kashif.r@shuttl.com</td>\n",
       "      <td>X</td>\n",
       "      <td>251-500</td>\n",
       "      <td>SNX0</td>\n",
       "      <td>KSNX0[3]</td>\n",
       "    </tr>\n",
       "    <tr>\n",
       "      <td>4</td>\n",
       "      <td>Shuttl</td>\n",
       "      <td>Ramashis Biswas</td>\n",
       "      <td>Head HR</td>\n",
       "      <td>ramashis.biswas@shuttl.com</td>\n",
       "      <td>X</td>\n",
       "      <td>251-500</td>\n",
       "      <td>SNX0</td>\n",
       "      <td>RSNX0[4]</td>\n",
       "    </tr>\n",
       "  </tbody>\n",
       "</table>\n",
       "</div>"
      ],
      "text/plain": [
       "  Company Name       Contact Name Designation                         Email  \\\n",
       "0       Shuttl         Amit Singh   Cofounder         amit.singh@shuttl.com   \n",
       "1       Shuttl  Deepanshu Malviya   Cofounder  deepanshu.malviya@shuttl.com   \n",
       "2       Shuttl        Gaurav Jain  VP Product        gaurav.jain@shuttl.com   \n",
       "3       Shuttl    Kashif Razzaqui         CTO           kashif.r@shuttl.com   \n",
       "4       Shuttl    Ramashis Biswas     Head HR    ramashis.biswas@shuttl.com   \n",
       "\n",
       "  Phone     Size id_co    id_con  \n",
       "0     X  251-500  SNX0  ASNX0[0]  \n",
       "1     X  251-500  SNX0  DSNX0[1]  \n",
       "2     X  251-500  SNX0  GSNX0[2]  \n",
       "3     X  251-500  SNX0  KSNX0[3]  \n",
       "4     X  251-500  SNX0  RSNX0[4]  "
      ]
     },
     "execution_count": 97,
     "metadata": {},
     "output_type": "execute_result"
    }
   ],
   "source": [
    "df.head()"
   ]
  },
  {
   "cell_type": "code",
   "execution_count": 98,
   "metadata": {},
   "outputs": [],
   "source": [
    "Filename1='C:\\\\Users\\\\Admin\\\\Contact.csv'"
   ]
  },
  {
   "cell_type": "code",
   "execution_count": 99,
   "metadata": {},
   "outputs": [],
   "source": [
    "Contact = df.to_csv(Filename1)"
   ]
  },
  {
   "cell_type": "code",
   "execution_count": null,
   "metadata": {},
   "outputs": [],
   "source": []
  }
 ],
 "metadata": {
  "kernelspec": {
   "display_name": "Python 3",
   "language": "python",
   "name": "python3"
  },
  "language_info": {
   "codemirror_mode": {
    "name": "ipython",
    "version": 3
   },
   "file_extension": ".py",
   "mimetype": "text/x-python",
   "name": "python",
   "nbconvert_exporter": "python",
   "pygments_lexer": "ipython3",
   "version": "3.7.4"
  }
 },
 "nbformat": 4,
 "nbformat_minor": 2
}
