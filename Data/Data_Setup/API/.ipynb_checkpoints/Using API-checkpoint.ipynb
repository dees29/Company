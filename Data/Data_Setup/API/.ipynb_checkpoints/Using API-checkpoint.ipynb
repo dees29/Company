{
 "cells": [
  {
   "cell_type": "code",
   "execution_count": null,
   "metadata": {},
   "outputs": [],
   "source": [
    "# from Google import Create_Service\n",
    "from google import create_service\n",
    "import pandas as pd\n",
    "\n",
    "CLIENT_SECRET_FILE = 'client_secret.json'\n",
    "API_SERVICE_NAME = 'sheets'\n",
    "API_VERSION = 'v4'\n",
    "SCOPES = ['*********************']\n",
    "gsheetId = '*****************'\n",
    "\n",
    "s = create_service(CLIENT_SECRET_FILE, API_SERVICE_NAME, API_VERSION, SCOPES)\n",
    "gs = s.spreadsheets()\n",
    "rows = gs.values().get(spreadsheetId=gsheetId,range='Sheet1').execute()\n",
    "data = rows.get('values')\n",
    "df = pd.DataFrame(data)\n",
    "print(df)"
   ]
  },
  {
   "cell_type": "code",
   "execution_count": 5,
   "metadata": {},
   "outputs": [
    {
     "name": "stdout",
     "output_type": "stream",
     "text": [
      "Requirement already satisfied: google in c:\\users\\admin\\anaconda3\\lib\\site-packages (2.0.3)\n",
      "Requirement already satisfied: beautifulsoup4 in c:\\users\\admin\\anaconda3\\lib\\site-packages (from google) (4.8.0)\n",
      "Requirement already satisfied: soupsieve>=1.2 in c:\\users\\admin\\anaconda3\\lib\\site-packages (from beautifulsoup4->google) (1.9.3)\n",
      "Note: you may need to restart the kernel to use updated packages.\n"
     ]
    }
   ],
   "source": [
    "pip install google"
   ]
  },
  {
   "cell_type": "code",
   "execution_count": null,
   "metadata": {},
   "outputs": [],
   "source": []
  }
 ],
 "metadata": {
  "kernelspec": {
   "display_name": "Python 3",
   "language": "python",
   "name": "python3"
  },
  "language_info": {
   "codemirror_mode": {
    "name": "ipython",
    "version": 3
   },
   "file_extension": ".py",
   "mimetype": "text/x-python",
   "name": "python",
   "nbconvert_exporter": "python",
   "pygments_lexer": "ipython3",
   "version": "3.7.4"
  }
 },
 "nbformat": 4,
 "nbformat_minor": 2
}
